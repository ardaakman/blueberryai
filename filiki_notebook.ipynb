{
 "cells": [
  {
   "attachments": {},
   "cell_type": "markdown",
   "metadata": {},
   "source": [
    "# Test whisper"
   ]
  },
  {
   "cell_type": "code",
   "execution_count": 16,
   "metadata": {},
   "outputs": [
    {
     "data": {
      "text/plain": [
       "\"Hey, this is People's Gas Company. How can I help you?\""
      ]
     },
     "execution_count": 16,
     "metadata": {},
     "output_type": "execute_result"
    }
   ],
   "source": [
    "import openai\n",
    "import os\n",
    "from dotenv import load_dotenv\n",
    "import requests\n",
    "load_dotenv()\n",
    "\n",
    "openai.api_key = os.getenv('OPENAI_API_KEY')\n",
    "\n",
    "audio_url_example = \"https://s3.us-west-1.wasabisys.com/blueberryai-input/output_0.mp3\"\n",
    "\n",
    "def convert_speech_to_text_whisper(recording_url):\n",
    "    # Download the audio file from the URL\n",
    "    response = requests.get(recording_url)\n",
    "    audio_file = response.content\n",
    "\n",
    "    # Save the audio data to a file\n",
    "    with open(\"temp.wav\", \"wb\") as file:\n",
    "        file.write(audio_file)\n",
    "\n",
    "    # Transcribe the audio using Whisper API\n",
    "    with open(\"temp.wav\", \"rb\") as file:\n",
    "        transcript = openai.Audio.transcribe(\"whisper-1\", file)\n",
    "    \n",
    "    return transcript.text\n",
    "\n",
    "convert_speech_to_text_whisper(audio_url_example)"
   ]
  },
  {
   "cell_type": "code",
   "execution_count": null,
   "metadata": {},
   "outputs": [],
   "source": [
    "import json\n",
    "def string_to_json(string):\n",
    "    return json.loads(string)\n",
    "    \n",
    "def run_hume_transcription(recording_url):\n",
    "    url = \"https://api.hume.ai/v0/batch/jobs\"\n",
    "\n",
    "    payload = \"{\\\"models\\\":{\\\"face\\\":{\\\"fps_pred\\\":3,\\\"prob_threshold\\\":0.99,\\\"identify_faces\\\":false,\\\"min_face_size\\\":60,\\\"save_faces\\\":false},\\\"prosody\\\":{\\\"granularity\\\":\\\"utterance\\\",\\\"identify_speakers\\\":false,\\\"window\\\":{\\\"length\\\":4,\\\"step\\\":1}},\\\"language\\\":{\\\"granularity\\\":\\\"word\\\",\\\"identify_speakers\\\":false},\\\"ner\\\":{\\\"identify_speakers\\\":false}},\\\"transcription\\\":{\\\"language\\\":null},\" + \"\\\"urls\\\":[\\\"\" + recording_url + \"\\\"],\\\"notify\\\":false}\"\n",
    "    headers = {\n",
    "        \"accept\": \"application/json; charset=utf-8\",\n",
    "        \"content-type\": \"application/json; charset=utf-8\",\n",
    "        \"X-Hume-Api-Key\": os.getenv(\"HUME_API_KEY\"),\n",
    "    }\n",
    "    response = requests.post(url, data=payload, headers=headers)\n",
    "    job_id = string_to_json(response.text)['job_id']\n",
    "    \n",
    "    return job_id\n",
    "\n",
    "def get_hume_result(job_id):\n",
    "    while True:\n",
    "        url = f\"https://api.hume.ai/v0/batch/jobs/{job_id}/predictions\"\n",
    "\n",
    "        headers = {\n",
    "            \"accept\": \"application/json; charset=utf-8\",\n",
    "            \"X-Hume-Api-Key\": os.getenv(\"HUME_API_KEY\"),\n",
    "        }\n",
    "\n",
    "        response = requests.get(url, headers=headers)\n",
    "        print(string_to_json(response.text))\n",
    "\n",
    "job_id = run_hume_transcription(audio_url_example)\n"
   ]
  },
  {
   "cell_type": "code",
   "execution_count": 1,
   "metadata": {},
   "outputs": [],
   "source": [
    "import requests\n",
    "import time\n",
    "import openai\n",
    "import os\n",
    "from dotenv import load_dotenv\n",
    "\n",
    "# Load the variables from the .env file\n",
    "load_dotenv()\n",
    "\n",
    "# Set up Twilio client\n",
    "account_sid = os.getenv('ACCOUNT_SID')\n",
    "auth_token = os.getenv('AUTH_TOKEN')\n",
    "twilio_phone_number = os.getenv(\"TWILIO_PHONE_NUMBER\")\n",
    "recipient_phone_number = os.getenv('RECIPIENT_PHONE_NUMBER')\n",
    "hume_api_key = os.getenv('HUME_API_KEY')\n",
    "fliki_api_key = os.getenv('FLIKI_API_KEY')"
   ]
  },
  {
   "cell_type": "code",
   "execution_count": 9,
   "metadata": {},
   "outputs": [
    {
     "data": {
      "text/plain": [
       "'BRlltt9gz2pChEvFQLC38mvEe8jGOoAHuZd4lKeY9vZqydZH'"
      ]
     },
     "execution_count": 9,
     "metadata": {},
     "output_type": "execute_result"
    }
   ],
   "source": [
    "hume_api_key"
   ]
  },
  {
   "cell_type": "code",
   "execution_count": 15,
   "metadata": {},
   "outputs": [
    {
     "data": {
      "text/plain": [
       "{'success': True,\n",
       " 'data': [{'_id': '61b8b2f24268666c126babb1', 'name': 'Afrikaans'},\n",
       "  {'_id': '62b2110fb751a736405225ce', 'name': 'Albanian'},\n",
       "  {'_id': '61b8b2f24268666c126babb3', 'name': 'Amharic'},\n",
       "  {'_id': '61b8b2f24268666c126babb5', 'name': 'Arabic'},\n",
       "  {'_id': '635bc419d0900a036c2e439d', 'name': 'Armenian'},\n",
       "  {'_id': '62b21780d63b5531a40753f4', 'name': 'Azerbaijani'},\n",
       "  {'_id': '61b8b2f24268666c126babb7', 'name': 'Bangla/Bengali'},\n",
       "  {'_id': '635bc666d0900a036c2e6ed2', 'name': 'Basque'},\n",
       "  {'_id': '62b2188ed63b5531a40757e3', 'name': 'Bosnian'},\n",
       "  {'_id': '61b8b2f34268666c126babb9', 'name': 'Bulgarian'},\n",
       "  {'_id': '61b8b2f34268666c126babbb', 'name': 'Burmese'},\n",
       "  {'_id': '61b8b2f34268666c126babbd', 'name': 'Catalan'},\n",
       "  {'_id': '61b8b2f44268666c126babbf', 'name': 'Chinese'},\n",
       "  {'_id': '61b8b2f44268666c126babc1', 'name': 'Croatian'},\n",
       "  {'_id': '61b8b2f44268666c126babc3', 'name': 'Czech'},\n",
       "  {'_id': '61b8b2f44268666c126babc5', 'name': 'Danish'},\n",
       "  {'_id': '61b8b2f54268666c126babc7', 'name': 'Dutch'},\n",
       "  {'_id': '61b8b2f54268666c126babc9', 'name': 'English'},\n",
       "  {'_id': '61b8b2f54268666c126babcb', 'name': 'Estonian'},\n",
       "  {'_id': '61b8b2f54268666c126babcd', 'name': 'Filipino'},\n",
       "  {'_id': '61b8b2f64268666c126babcf', 'name': 'Finnish'},\n",
       "  {'_id': '61b8b2f64268666c126babd1', 'name': 'French'},\n",
       "  {'_id': '61b8b2f64268666c126babd3', 'name': 'Galician'},\n",
       "  {'_id': '62b219d2d63b5531a4075de7', 'name': 'Georgian'},\n",
       "  {'_id': '61b8b2f64268666c126babd5', 'name': 'German'},\n",
       "  {'_id': '61b8b2f74268666c126babd7', 'name': 'Greek'},\n",
       "  {'_id': '61b8b2f74268666c126babd9', 'name': 'Gujarati'},\n",
       "  {'_id': '61b8b2f74268666c126babdb', 'name': 'Hebrew'},\n",
       "  {'_id': '61b8b2f74268666c126babdd', 'name': 'Hindi'},\n",
       "  {'_id': '61b8b2f84268666c126babdf', 'name': 'Hungarian'},\n",
       "  {'_id': '61b8b2f84268666c126babe1', 'name': 'Icelandic'},\n",
       "  {'_id': '61b8b2f84268666c126babe3', 'name': 'Indonesian'},\n",
       "  {'_id': '61b8b2f94268666c126babe5', 'name': 'Irish'},\n",
       "  {'_id': '61b8b2f94268666c126babe7', 'name': 'Italian'},\n",
       "  {'_id': '61b8b2f94268666c126babe9', 'name': 'Japanese'},\n",
       "  {'_id': '61b8b2f94268666c126babeb', 'name': 'Javanese'},\n",
       "  {'_id': '61b8b2fa4268666c126babed', 'name': 'Kannada'},\n",
       "  {'_id': '620518726fc020955bdcf7cc', 'name': 'Kazakh'},\n",
       "  {'_id': '61b8b2fa4268666c126babef', 'name': 'Khmer'},\n",
       "  {'_id': '61b8b2fa4268666c126babf1', 'name': 'Korean'},\n",
       "  {'_id': '620519ba6fc020955bdcf864', 'name': 'Lao'},\n",
       "  {'_id': '61b8b2fa4268666c126babf3', 'name': 'Latvian'},\n",
       "  {'_id': '61b8b2fb4268666c126babf5', 'name': 'Lithuanian'},\n",
       "  {'_id': '62051a6c6fc020955bdcf8a2', 'name': 'Macedonian'},\n",
       "  {'_id': '61b8b2fb4268666c126babf7', 'name': 'Malay'},\n",
       "  {'_id': '61b8b2fc4268666c126babfd', 'name': 'Malayalam'},\n",
       "  {'_id': '61b8b2fb4268666c126babf9', 'name': 'Maltese'},\n",
       "  {'_id': '61b8b2fb4268666c126babfb', 'name': 'Marathi'},\n",
       "  {'_id': '62b21becd63b5531a4076ba1', 'name': 'Mongolian'},\n",
       "  {'_id': '62b21c96d63b5531a4076ed9', 'name': 'Nepali'},\n",
       "  {'_id': '61b8b2fc4268666c126babff', 'name': 'Norwegian'},\n",
       "  {'_id': '62051b886fc020955bdcf90f', 'name': 'Pashto'},\n",
       "  {'_id': '61b8b2fc4268666c126bac01', 'name': 'Persian'},\n",
       "  {'_id': '61b8b2fc4268666c126bac03', 'name': 'Polish'},\n",
       "  {'_id': '61b8b2fd4268666c126bac05', 'name': 'Portuguese'},\n",
       "  {'_id': '61b8b2fd4268666c126bac07', 'name': 'Punjabi'},\n",
       "  {'_id': '61b8b2fd4268666c126bac09', 'name': 'Romanian'},\n",
       "  {'_id': '61b8b2fd4268666c126bac0b', 'name': 'Russian'},\n",
       "  {'_id': '61b8b2fe4268666c126bac0d', 'name': 'Serbian'},\n",
       "  {'_id': '62051f366fc020955bdcfb5c', 'name': 'Sinhala'},\n",
       "  {'_id': '61b8b2fe4268666c126bac0f', 'name': 'Slovak'},\n",
       "  {'_id': '61b8b2fe4268666c126bac11', 'name': 'Slovenian'},\n",
       "  {'_id': '61b8b2ff4268666c126bac13', 'name': 'Somali'},\n",
       "  {'_id': '61b8b2ff4268666c126bac15', 'name': 'Spanish'},\n",
       "  {'_id': '61b8b2ff4268666c126bac17', 'name': 'Sundanese'},\n",
       "  {'_id': '61b8b2ff4268666c126bac19', 'name': 'Swahili'},\n",
       "  {'_id': '61b8b3004268666c126bac1b', 'name': 'Swedish'},\n",
       "  {'_id': '61b8b3014268666c126bac1d', 'name': 'Tamil'},\n",
       "  {'_id': '61b8b3014268666c126bac1f', 'name': 'Telugu'},\n",
       "  {'_id': '61b8b3014268666c126bac21', 'name': 'Thai'},\n",
       "  {'_id': '61b8b3014268666c126bac23', 'name': 'Turkish'},\n",
       "  {'_id': '61b8b3024268666c126bac25', 'name': 'Ukrainian'},\n",
       "  {'_id': '61b8b3024268666c126bac27', 'name': 'Urdu'},\n",
       "  {'_id': '61b8b3024268666c126bac29', 'name': 'Uzbek'},\n",
       "  {'_id': '61b8b3024268666c126bac2b', 'name': 'Vietnamese'},\n",
       "  {'_id': '61b8b3034268666c126bac2d', 'name': 'Welsh'},\n",
       "  {'_id': '61b8b3034268666c126bac2f', 'name': 'Zulu'}]}"
      ]
     },
     "execution_count": 15,
     "metadata": {},
     "output_type": "execute_result"
    }
   ],
   "source": [
    "url = \"https://api.fliki.ai/v1/languages\"\n",
    "headers = {\n",
    "    \"Authorization\": f\"Bearer {fliki_api_key}\",\n",
    "    \"Content-Type\": \"application/json\"\n",
    "}\n",
    "\n",
    "response = requests.get(url, headers=headers)\n",
    "response.json()"
   ]
  },
  {
   "attachments": {},
   "cell_type": "markdown",
   "metadata": {},
   "source": [
    "# Get all the voices"
   ]
  },
  {
   "cell_type": "code",
   "execution_count": null,
   "metadata": {},
   "outputs": [],
   "source": [
    "url = \"https://api.fliki.ai/v1/voices\"\n",
    "english_language_id = \"61b8b2f54268666c126babc9\"\n",
    "us_dialect_id = \"61b8b31c4268666c126bace7\"\n",
    "\n",
    "headers = {\n",
    "    \"Authorization\": f\"Bearer {fliki_api_key}\",\n",
    "    \"Content-Type\": \"application/json\"\n",
    "}\n",
    "data = {\n",
    "    \"languageId\": english_language_id,\n",
    "    \"dialectId\": us_dialect_id\n",
    "}\n",
    "\n",
    "response = requests.post(url, headers=headers, json=data)\n",
    "response.json()"
   ]
  },
  {
   "attachments": {},
   "cell_type": "markdown",
   "metadata": {},
   "source": [
    "# Conversational Call"
   ]
  },
  {
   "cell_type": "code",
   "execution_count": 27,
   "metadata": {},
   "outputs": [
    {
     "name": "stdout",
     "output_type": "stream",
     "text": [
      "True https://storage.googleapis.com/fliki/media/api/648e29e780c5a1088ca021f4/648e33a755f0dd4c6d688d55.mp3 2.016\n"
     ]
    }
   ],
   "source": [
    "conversational_style_id = \"6434632c9f50eacb088edafd\"\n",
    "marcus_speaker_id = \"643463179f50eacb088edaec\"\n",
    "\n",
    "import requests\n",
    "\n",
    "content_text = \"Um.. yes I'd like to cancel my subscription.\"\n",
    "\n",
    "url = \"https://api.fliki.ai/v1/generate/text-to-speech\"\n",
    "headers = {\n",
    "    \"Authorization\": f\"Bearer {fliki_api_key}\",\n",
    "    \"Content-Type\": \"application/json\"\n",
    "}\n",
    "data = {\n",
    "    \"content\": content_text,\n",
    "    \"voiceId\": marcus_speaker_id,\n",
    "    \"voiceStyleId\": conversational_style_id\n",
    "}\n",
    "\n",
    "response = requests.post(url, headers=headers, json=data)\n",
    "\n",
    "import json\n",
    "\n",
    "response_text = b'{\"success\":true,\"data\":{\"audio\":\"https://storage.googleapis.com/fliki/media/api/648e29e780c5a1088ca021f4/648e335155f0dd4c6d681357.mp3\",\"duration\":1.968}}'\n",
    "\n",
    "# Check the response status code\n",
    "if response.status_code == 200:\n",
    "    # Process the response\n",
    "    audio_data = response.content\n",
    "    # Do something with the audio data\n",
    "    response_dict = json.loads(audio_data)\n",
    "\n",
    "    # Now you can access the dictionary elements\n",
    "    success = response_dict[\"success\"]\n",
    "    audio_url = response_dict[\"data\"][\"audio\"]\n",
    "    duration = response_dict[\"data\"][\"duration\"]\n",
    "    \n",
    "    print(success, audio_url, duration)\n",
    "else:\n",
    "    # Handle the error\n",
    "    print(f\"Request failed with status code {response.status_code}: {response.text}\")\n"
   ]
  },
  {
   "cell_type": "code",
   "execution_count": null,
   "metadata": {},
   "outputs": [],
   "source": []
  }
 ],
 "metadata": {
  "kernelspec": {
   "display_name": "venv",
   "language": "python",
   "name": "python3"
  },
  "language_info": {
   "codemirror_mode": {
    "name": "ipython",
    "version": 3
   },
   "file_extension": ".py",
   "mimetype": "text/x-python",
   "name": "python",
   "nbconvert_exporter": "python",
   "pygments_lexer": "ipython3",
   "version": "3.10.0"
  },
  "orig_nbformat": 4
 },
 "nbformat": 4,
 "nbformat_minor": 2
}
