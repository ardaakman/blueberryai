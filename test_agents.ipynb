{
 "cells": [
  {
   "cell_type": "code",
   "execution_count": 1,
   "metadata": {},
   "outputs": [],
   "source": [
    "from chat import ContextManager\n",
    "context_manager = ContextManager()\n",
    "context_manager.load_from_file(\"./twilio/context.txt\")"
   ]
  },
  {
   "cell_type": "code",
   "execution_count": 2,
   "metadata": {},
   "outputs": [],
   "source": [
    "def test(agent):\n",
    "    with open(\"transcript.txt\", \"r\") as file_handler:\n",
    "        transcript = file_handler.read().splitlines()\n",
    "    \n",
    "    for customer_support_response in transcript:\n",
    "        print(\"Customer support:\", customer_support_response)\n",
    "        print(\"Agent response:\", agent(customer_support_response))"
   ]
  },
  {
   "cell_type": "code",
   "execution_count": 3,
   "metadata": {},
   "outputs": [],
   "source": [
    "from chat_agents import ContextAgent, EfficientAgent, EfficientContextAgent, SystemBasedAgent, CookBook"
   ]
  },
  {
   "cell_type": "code",
   "execution_count": 4,
   "metadata": {},
   "outputs": [],
   "source": [
    "agent = EfficientContextAgent(\"create a new account\", \"People's Gas\", context_manager)"
   ]
  },
  {
   "cell_type": "code",
   "execution_count": 6,
   "metadata": {},
   "outputs": [
    {
     "name": "stdout",
     "output_type": "stream",
     "text": [
      "Customer support: Hi! This is People's gas, how could we help you today?\n",
      "Agent response: Hi there, I'd like to create a new account with People's gas, please.\n",
      "Customer support: What is your name?\n",
      "Agent response: My name is Ekrem Korkmaz.\n",
      "Customer support: How do you spell that?\n",
      "Agent response: E-K-R-E-M   K-O-R-K-M-A-Z.\n",
      "Customer support: What is your date of birth?\n",
      "Agent response: My date of birth is 03/02/2001.\n",
      "Customer support: What is your social security number?\n",
      "Agent response: My SSN is 123-45-678.\n",
      "Customer support: Do you already have a People's account?\n",
      "Agent response: No, this is my first time creating an account with People's Gas.\n",
      "Customer support: What could we help you with today?\n",
      "Agent response: Hi! I'd like to create a new account with People's Gas, please.\n",
      "Customer support: What is your home address?\n",
      "Agent response: My home address is 5032 Forbes Ave, SMC 1000, Pittsburgh PA 15289.\n",
      "Customer support: Could you repeat that?\n",
      "Agent response: 5032 Forbes Ave, SMC 1000, Pittsburgh PA 15289.\n",
      "Customer support: Does your home have a gas account already?\n",
      "Agent response: No, this is my first time creating an account with People's Gas.\n",
      "Customer support: Do you need a new gas account?\n",
      "Agent response: Yes, I would like to create a new account with People's Gas.\n",
      "Customer support: Could I get an email address?\n",
      "Agent response: Sure, my email address is ekrem.korkmaz@gmail.com.\n",
      "Customer support: Could you spell that email address?\n",
      "Agent response: Sure. E K R E M dot K O R K M A Z at G M A I L dot com.\n",
      "Customer support: What is your phone number?\n",
      "Agent response: My phone number is 4 1 2 6 0 8 4 7 5 7.\n",
      "Customer support: Great! I have everything you need to open your account. Your new account number is PG-345-67. Two gas operators will come to your house tomorrow to set up the new account, between 8 am and noon, would this be okay for you?\n",
      "Agent response: Yes, that works for me. Thank you for your help!\n"
     ]
    }
   ],
   "source": [
    "test(agent)"
   ]
  },
  {
   "cell_type": "code",
   "execution_count": 19,
   "metadata": {},
   "outputs": [],
   "source": [
    "import openai\n",
    "\n",
    "class SummaryAgent():\n",
    "    def __init__(self):\n",
    "        self.model = \"gpt-3.5-turbo\" \n",
    "        self.generate_agent_description()\n",
    "        self.agent_description = {\"role\": \"system\", \"content\": self.agent_description_prompt}\n",
    "    \n",
    "    def generate_agent_description(self):\n",
    "        self.agent_description_prompt = f\"\"\"\n",
    "Use the provided conversations delimited by triple quotes to answer questions.\n",
    "You're given a conversation between a customer and a customer service representative.\n",
    "Your goal is to summarize the conversation to actionable items. \n",
    "        \"\"\"\n",
    "        \n",
    "    def engineer_prompt(self, dialogue_history):\n",
    "        dialogue = \"\"\n",
    "        for dialogue_dict in dialogue_history:\n",
    "            if dialogue_dict[\"role\"] == \"user\":\n",
    "                dialogue += \"\\n\" + dialogue_dict[\"content\"]\n",
    "            elif dialogue_dict[\"role\"] == \"assistant\":\n",
    "                dialogue += \"\\n\" + \"Human\" + dialogue_dict[\"content\"]\n",
    "        \n",
    "        prompt = f\"\"\"\n",
    "You are a personal assistant. You're listening to a conversation between a human and a customer service representative. This dialogue is given between the triple quotes. Summarize the following dialogue to a list of important information provided by the customer service representative. This information shouldn't include anything the human would know before the conversation. Your response should be brief.\n",
    "\\\"\\\"\\\"\n",
    "{dialogue}\n",
    "\\\"\\\"\\\"\n",
    "\"\"\"\n",
    "        return prompt\n",
    "    \n",
    "    def __call__(self, agent):\n",
    "        dialogue_history = agent.dialogue_history\n",
    "        \n",
    "        prompt = self.engineer_prompt(dialogue_history)\n",
    "        messages = [self.agent_description, {\"role\": \"user\", \"content\": prompt}]\n",
    "        completion = openai.ChatCompletion.create(\n",
    "            model=self.model,\n",
    "            messages=messages\n",
    "        )\n",
    "        response = completion.choices[0].message\n",
    "        \n",
    "        return response.content"
   ]
  },
  {
   "cell_type": "code",
   "execution_count": 20,
   "metadata": {},
   "outputs": [],
   "source": [
    "summary = SummaryAgent()"
   ]
  },
  {
   "cell_type": "code",
   "execution_count": 21,
   "metadata": {},
   "outputs": [
    {
     "data": {
      "text/plain": [
       "\"- Ekrem Korkmaz wants to create a new account with People's Gas.\\n- The customer service agent asks for his personal information such as name, date of birth, social security number, home address, and email address.\\n- This is his first time creating an account with People's Gas.\\n- The customer service agent assigns a new account number, PG-345-67.\\n- Two gas operators will come to the customer's house to set up the new account tomorrow between 8 am and noon.\""
      ]
     },
     "execution_count": 21,
     "metadata": {},
     "output_type": "execute_result"
    }
   ],
   "source": [
    "summary(agent)"
   ]
  },
  {
   "cell_type": "code",
   "execution_count": null,
   "metadata": {},
   "outputs": [],
   "source": []
  },
  {
   "cell_type": "code",
   "execution_count": null,
   "metadata": {},
   "outputs": [],
   "source": []
  }
 ],
 "metadata": {
  "kernelspec": {
   "display_name": "venv",
   "language": "python",
   "name": "python3"
  },
  "language_info": {
   "codemirror_mode": {
    "name": "ipython",
    "version": 3
   },
   "file_extension": ".py",
   "mimetype": "text/x-python",
   "name": "python",
   "nbconvert_exporter": "python",
   "pygments_lexer": "ipython3",
   "version": "3.10.0"
  },
  "orig_nbformat": 4
 },
 "nbformat": 4,
 "nbformat_minor": 2
}
