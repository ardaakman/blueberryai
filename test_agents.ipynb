{
 "cells": [
  {
   "cell_type": "code",
   "execution_count": 1,
   "metadata": {},
   "outputs": [],
   "source": [
    "from chat import ContextManager\n",
    "context_manager = ContextManager()\n",
    "context_manager.load_from_file(\"./twilio-file/context.txt\")"
   ]
  },
  {
   "cell_type": "code",
   "execution_count": 2,
   "metadata": {},
   "outputs": [],
   "source": [
    "def test(agent):\n",
    "    with open(\"transcript.txt\", \"r\") as file_handler:\n",
    "        transcript = file_handler.read().splitlines()\n",
    "    \n",
    "    for customer_support_response in transcript:\n",
    "        print(\"Customer support:\", customer_support_response)\n",
    "        print(\"Agent response:\", agent(customer_support_response))"
   ]
  },
  {
   "cell_type": "code",
   "execution_count": 3,
   "metadata": {},
   "outputs": [],
   "source": [
    "from chat_agents import ContextAgent, EfficientAgent, EfficientContextAgent, SystemBasedAgent, CookBook"
   ]
  },
  {
   "cell_type": "code",
   "execution_count": 4,
   "metadata": {},
   "outputs": [],
   "source": [
    "agent = EfficientContextAgent(\"create a new account\", \"People's Gas\", context_manager)"
   ]
  },
  {
   "cell_type": "code",
   "execution_count": 6,
   "metadata": {},
   "outputs": [
    {
     "name": "stdout",
     "output_type": "stream",
     "text": [
      "Customer support: Hi! This is People's gas, how could we help you today?\n",
      "Agent response: Hi there! I'd like to create a new account with People's Gas.\n",
      "Customer support: What is your name?\n",
      "Agent response: My name is Ekrem Korkmaz.\n",
      "Customer support: How do you spell that?\n",
      "Agent response: E K R E M, and then K O R K M A Z.\n",
      "Customer support: What is your date of birth?\n",
      "Agent response: May 3rd, 2022.\n",
      "Customer support: What is your social security number?\n",
      "Agent response: My social security number is 123-45-678.\n",
      "Customer support: Do you already have a People's account?\n",
      "Agent response: No, I don't have an account yet.\n",
      "Customer support: What could we help you with today?\n",
      "Agent response: Hi! I'd like to open a new account with People's Gas.\n",
      "Customer support: What is your home address?\n",
      "Agent response: My home address is 5032 Forbes Ave, SMC 1000, Pittsburgh PA 15289.\n",
      "Customer support: Could you repeat that?\n",
      "Agent response: 5032 Forbes Ave, SMC 1000, Pittsburgh PA 15289.\n",
      "Customer support: Does your home have a gas account already?\n",
      "Agent response: No, I don't have an account yet.\n",
      "Customer support: Do you need a new gas account?\n",
      "Agent response: Yes, I need a new gas account.\n",
      "Customer support: Could I get an email address?\n",
      "Agent response: Sure, my email address is ekrem.korkmaz@gmail.com.\n",
      "Customer support: Could you spell that email address?\n",
      "Agent response: Sure, E K R E M dot K O R K M A Z at G M A I L dot com.\n",
      "Customer support: What is your phone number?\n",
      "Agent response: My phone number is 4 1 2 6 0 8 4 7 5 7.\n",
      "Customer support: Great! I have everything you need to open your account. Your new account number is PG-345-67. Two gas operators will come to your house tomorrow to set up the new account, between 8 am and noon, would this be okay for you?\n",
      "Agent response: Yes, that works for me. Thank you so much!\n"
     ]
    }
   ],
   "source": [
    "test(agent)"
   ]
  },
  {
   "cell_type": "code",
   "execution_count": 8,
   "metadata": {},
   "outputs": [],
   "source": [
    "from agent_helpers import SummaryAgent\n",
    "summary = SummaryAgent()"
   ]
  },
  {
   "cell_type": "code",
   "execution_count": 10,
   "metadata": {},
   "outputs": [
    {
     "name": "stdout",
     "output_type": "stream",
     "text": [
      "Summary:\n",
      "- The customer wants to create a new account with People's Gas.\n",
      "- The customer gives their personal information such as name, date of birth, social security number, address, and email address.\n",
      "- The customer does not have an existing account with People's Gas.\n",
      "- The customer needs a new gas account.\n",
      "- The customer's new account number is PG-345-67.\n",
      "- Gas operators will come to the customer's house the next day between 8 am and noon to set up the new account.\n"
     ]
    }
   ],
   "source": [
    "for item in summary.__call__(agent).split('\\n'):\n",
    "    print(item)"
   ]
  },
  {
   "cell_type": "code",
   "execution_count": null,
   "metadata": {},
   "outputs": [],
   "source": []
  },
  {
   "cell_type": "code",
   "execution_count": null,
   "metadata": {},
   "outputs": [],
   "source": []
  }
 ],
 "metadata": {
  "kernelspec": {
   "display_name": "venv",
   "language": "python",
   "name": "python3"
  },
  "language_info": {
   "codemirror_mode": {
    "name": "ipython",
    "version": 3
   },
   "file_extension": ".py",
   "mimetype": "text/x-python",
   "name": "python",
   "nbconvert_exporter": "python",
   "pygments_lexer": "ipython3",
   "version": "3.10.0"
  },
  "orig_nbformat": 4
 },
 "nbformat": 4,
 "nbformat_minor": 2
}
