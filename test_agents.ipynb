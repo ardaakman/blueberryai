{
 "cells": [
  {
   "cell_type": "code",
   "execution_count": 1,
   "metadata": {},
   "outputs": [],
   "source": [
    "from chat import ContextManager\n",
    "context_manager = ContextManager()\n",
    "context_manager.load_from_file(\"./twilio/context.txt\")"
   ]
  },
  {
   "cell_type": "code",
   "execution_count": 2,
   "metadata": {},
   "outputs": [],
   "source": [
    "def test(agent):\n",
    "    with open(\"transcript.txt\", \"r\") as file_handler:\n",
    "        transcript = file_handler.read().splitlines()\n",
    "    \n",
    "    for customer_support_response in transcript:\n",
    "        print(\"Customer support:\", customer_support_response)\n",
    "        print(\"Agent response:\", agent(customer_support_response))"
   ]
  },
  {
   "cell_type": "code",
   "execution_count": 3,
   "metadata": {},
   "outputs": [],
   "source": [
    "from chat_agents import ContextAgent, EfficientAgent, EfficientContextAgent"
   ]
  },
  {
   "cell_type": "code",
   "execution_count": 4,
   "metadata": {},
   "outputs": [
    {
     "name": "stdout",
     "output_type": "stream",
     "text": [
      "Customer support: Hi! This is People's gas, how could we help you today?\n",
      "Agent response: Um hi, I was looking to create a new account with People's Gas. Can you help me with that?\n",
      "Customer support: What is your name?\n",
      "Agent response: My name is Ekrem Korkmaz.\n",
      "Customer support: How do you spell that?\n",
      "Agent response: Oh, sorry about that. It's E K R E M  K O R K M A Z.\n",
      "Customer support: What is your date of birth?\n",
      "Agent response: My date of birth is March 2nd, 2001.\n",
      "Customer support: What is your social security number?\n",
      "Agent response: It's 1 2 3 - 4 5 - 6 7 8.\n",
      "Customer support: Do you already have a People's account?\n",
      "Agent response: No, I don't have a People's account yet. It's completely new to me.\n",
      "Customer support: What could we help you with today?\n",
      "Agent response: Um, I was hoping to create a new account with People's Gas Company.\n",
      "Customer support: What is your home address?\n",
      "Agent response: My home address is 5 0 3 2 Forbes Ave, SMC 1000, Pittsburgh PA 15289.\n",
      "Customer support: Does your home have a gas account already?\n",
      "Agent response: No, I don't have an existing gas account with People's Gas.\n",
      "Customer support: Do you need a new gas account?\n",
      "Agent response: Yes, I need a new gas account with People's Gas.\n",
      "Customer support: Could I get an email address?\n",
      "Agent response: Sure, my email address is ekremkorkmaz@gmail.com.\n",
      "Customer support: Could you spell that?\n",
      "Agent response: Sure, my email address is E K R E M K O R K M A Z @ g m a i l . c o m.\n",
      "Customer support: What is your phone number?\n",
      "Agent response: My phone number is 4 1 2 6 0 8 4 7 5 7.\n"
     ]
    }
   ],
   "source": [
    "agent = EfficientContextAgent(\"create a new account\", \"People's Gas\", context_manager)\n",
    "test(agent)"
   ]
  },
  {
   "cell_type": "code",
   "execution_count": null,
   "metadata": {},
   "outputs": [],
   "source": []
  }
 ],
 "metadata": {
  "kernelspec": {
   "display_name": "venv",
   "language": "python",
   "name": "python3"
  },
  "language_info": {
   "codemirror_mode": {
    "name": "ipython",
    "version": 3
   },
   "file_extension": ".py",
   "mimetype": "text/x-python",
   "name": "python",
   "nbconvert_exporter": "python",
   "pygments_lexer": "ipython3",
   "version": "3.10.0"
  },
  "orig_nbformat": 4
 },
 "nbformat": 4,
 "nbformat_minor": 2
}
