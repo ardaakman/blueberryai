{
 "cells": [
  {
   "cell_type": "code",
   "execution_count": 1,
   "metadata": {},
   "outputs": [],
   "source": [
    "from chat import ContextManager\n",
    "context_manager = ContextManager()\n",
    "context_manager.load_from_file(\"./twilio/context.txt\")"
   ]
  },
  {
   "cell_type": "code",
   "execution_count": 2,
   "metadata": {},
   "outputs": [],
   "source": [
    "def test(agent):\n",
    "    with open(\"transcript.txt\", \"r\") as file_handler:\n",
    "        transcript = file_handler.read().splitlines()\n",
    "    \n",
    "    for customer_support_response in transcript:\n",
    "        print(\"Customer support:\", customer_support_response)\n",
    "        print(\"Agent response:\", agent(customer_support_response))"
   ]
  },
  {
   "cell_type": "code",
   "execution_count": 3,
   "metadata": {},
   "outputs": [],
   "source": [
    "from chat_agents import ContextAgent, EfficientAgent, EfficientContextAgent, SystemBasedAgent, CookBook"
   ]
  },
  {
   "cell_type": "code",
   "execution_count": 4,
   "metadata": {},
   "outputs": [],
   "source": [
    "agent = EfficientContextAgent(\"create a new account\", \"People's Gas\", context_manager)"
   ]
  },
  {
   "cell_type": "code",
   "execution_count": 5,
   "metadata": {},
   "outputs": [
    {
     "name": "stdout",
     "output_type": "stream",
     "text": [
      "Customer support: Hi! This is People's gas, how could we help you today?\n",
      "Agent response: Hi there! I'd like to create a new account with People's Gas, please.\n",
      "Customer support: What is your name?\n",
      "Agent response: My name is Ekrem Korkmaz.\n",
      "Customer support: How do you spell that?\n",
      "Agent response: E K R E M  K O R K M A Z.\n",
      "Customer support: What is your date of birth?\n",
      "Agent response: My date of birth is March 2nd, 2001.\n",
      "Customer support: What is your social security number?\n",
      "Agent response: My social security number is 123-45-678.\n",
      "Customer support: Do you already have a People's account?\n",
      "Agent response: No, I don't have an account yet.\n",
      "Customer support: What could we help you with today?\n",
      "Agent response: Hi there! I'd like to create a new account with People's Gas, please.\n",
      "Customer support: What is your home address?\n",
      "Agent response: 5032 Forbes Ave, SMC 1000, Pittsburgh PA 15289.\n",
      "Customer support: Could you repeat that?\n",
      "Agent response: Sure, my home address is 5032 Forbes Ave, SMC 1000, Pittsburgh PA 15289.\n",
      "Customer support: Does your home have a gas account already?\n",
      "Agent response: No, I don't currently have a gas account with People's Gas.\n",
      "Customer support: Do you need a new gas account?\n",
      "Agent response: Yes, please.\n",
      "Customer support: Could I get an email address?\n",
      "Agent response: Sure, my email is ekrem.korkmaz@gmail.com.\n",
      "Customer support: Could you spell that email address?\n",
      "Agent response: Sure, my email is e k r e m dot k o r k m a z at g m a i l dot c o m.\n",
      "Customer support: What is your phone number?\n",
      "Agent response: My phone number is 4 1 2 6 0 8 4 7 5 7.\n"
     ]
    }
   ],
   "source": [
    "test(agent)"
   ]
  },
  {
   "cell_type": "code",
   "execution_count": null,
   "metadata": {},
   "outputs": [],
   "source": []
  },
  {
   "cell_type": "code",
   "execution_count": null,
   "metadata": {},
   "outputs": [],
   "source": []
  }
 ],
 "metadata": {
  "kernelspec": {
   "display_name": "venv",
   "language": "python",
   "name": "python3"
  },
  "language_info": {
   "codemirror_mode": {
    "name": "ipython",
    "version": 3
   },
   "file_extension": ".py",
   "mimetype": "text/x-python",
   "name": "python",
   "nbconvert_exporter": "python",
   "pygments_lexer": "ipython3",
   "version": "3.10.0"
  },
  "orig_nbformat": 4
 },
 "nbformat": 4,
 "nbformat_minor": 2
}
